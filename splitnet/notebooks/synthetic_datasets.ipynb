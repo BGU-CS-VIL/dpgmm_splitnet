{
 "cells": [
  {
   "cell_type": "code",
   "execution_count": null,
   "metadata": {},
   "outputs": [],
   "source": [
    "# Change directory to VSCode workspace root so that relative path loads work correctly. Turn this addition off with the DataScience.changeDirOnImportExport setting\n",
    "# ms-toolsai.jupyter added\n",
    "import os\n",
    "try:\n",
    "\tos.chdir(os.path.join(os.getcwd(), '..'))\n",
    "\tprint(os.getcwd())\n",
    "except:\n",
    "\tpass"
   ]
  },
  {
   "cell_type": "code",
   "execution_count": null,
   "metadata": {},
   "outputs": [],
   "source": [
    "import numpy as np\n",
    "import seaborn as sns\n",
    "import matplotlib.pyplot as plt\n",
    "import matplotlib.patches as mpl_patches\n",
    "\n",
    "\n",
    "from numpy.random import dirichlet\n",
    "from scipy.stats import invwishart, multivariate_normal\n",
    "\n",
    "from src.data.data import genereate_splitnet_dataset, genereate_splitnet_dataset_multi\n",
    "from src.data.data import *\n",
    "from src.utils.metrics import *\n",
    "\n",
    "from sklearn.decomposition import PCA\n"
   ]
  },
  {
   "cell_type": "markdown",
   "metadata": {},
   "source": [
    "### utils and plotting functions"
   ]
  },
  {
   "cell_type": "code",
   "execution_count": null,
   "metadata": {},
   "outputs": [],
   "source": [
    "def plot_dataset(X, y, niw_prior, alpha, title, num_ax=3):\n",
    "    fig, ax = plt.subplots(num_ax, num_ax, figsize=(4*num_ax, 4*num_ax), facecolor='white')\n",
    "    # plt.figure(figsize=(4*num_ax, 4*num_ax), facecolor='white')\n",
    "\n",
    "    for i in range(num_ax**2):\n",
    "\n",
    "        x, y = X[i], Y[i]\n",
    "        x_ = x\n",
    "        if x.shape[-1] > 2:\n",
    "            pca = PCA(n_components=2)\n",
    "            x = pca.fit_transform(x)\n",
    "\n",
    "\n",
    "        r, c = i // num_ax, i % num_ax\n",
    "        # splot = plt.subplot(num_ax, num_ax, i+1)\n",
    "        ax[r, c].scatter(x[y==0,0], x[y==0,1], c='b', alpha=0.3)\n",
    "        ax[r, c].scatter(x[y==1,0], x[y==1,1], c='r', alpha=0.3)\n",
    "        H =  log_hasting_ratio(x_, y, niw_prior, alpha)\n",
    "        ax[r, c].set_title(f\"Log Hasting Ratio: {H:.2f}\")\n",
    "        plt.axis('tight')\n",
    "\n",
    "    fig.suptitle(title)\n",
    "    plt.tight_layout()\n",
    "    plt.subplots_adjust(top=0.92)\n",
    "    plt.show()"
   ]
  },
  {
   "cell_type": "code",
   "execution_count": 4,
   "metadata": {},
   "outputs": [],
   "source": [
    "def plot_loghr_histograms(X, Y, niw_prior, alpha, title):\n",
    "    gt_hr_mat = calc_hastings_ratio_gt(X, Y, niw_prior, alpha)\n",
    "    kmean_hr_mat = calc_hastings_ratio_kmeans(X, niw_prior, alpha)\n",
    "\n",
    "    histograms = {\n",
    "        \"gt\": gt_hr_mat,\n",
    "        \"kmeans\": kmean_hr_mat,\n",
    "    }\n",
    "\n",
    "    fig = sns.displot(histograms, kind=\"kde\")\n",
    "\n",
    "    handles = [\n",
    "        mpl_patches.Rectangle(\n",
    "            (0, 0), 1, 1, fc=\"white\", ec=\"white\", lw=0, alpha=0\n",
    "        )\n",
    "    ] * 2\n",
    "\n",
    "    labels = []\n",
    "    labels.append(\n",
    "        f\"NIW Prior: \\n kappa={niw_prior.k} \\n nu={niw_prior.v} \\n D={niw_prior.psi.shape[0]}\"\n",
    "    )\n",
    "    labels.append(f\"alpha={alpha}\")\n",
    "\n",
    "    plt.legend(\n",
    "        handles,\n",
    "        labels,\n",
    "        loc=\"right\",\n",
    "        fontsize=\"medium\",\n",
    "        fancybox=True,\n",
    "        framealpha=0.7,\n",
    "        handlelength=0,\n",
    "        handletextpad=0,\n",
    "    )\n",
    "\n",
    "    plt.suptitle(f\"{title} | log Hastings Ratio Histogram\")\n",
    "\n",
    "    plt.show()\n"
   ]
  },
  {
   "cell_type": "markdown",
   "metadata": {},
   "source": [
    "# Easy Data:"
   ]
  },
  {
   "cell_type": "code",
   "execution_count": 5,
   "metadata": {},
   "outputs": [
    {
     "name": "stderr",
     "output_type": "stream",
     "text": [
      "\n"
     ]
    },
    {
     "name": "stdout",
     "output_type": "stream",
     "text": [
      "Generated data, shape: (100, 2048, 3)\n",
      "Generated labels, shape: (100, 2048)\n"
     ]
    }
   ],
   "source": [
    "nu = 19\n",
    "k = 0.1\n",
    "D = 3\n",
    "mu=np.zeros(D)\n",
    "psi=np.eye(D)\n",
    "dp_alpha = 100\n",
    "alpha=10\n",
    "\n",
    "easy_niw_prior = niw_hyperparams(k=k, v=nu, mu=mu, psi=psi)\n",
    "\n",
    "X, Y = genereate_splitnet_dataset(\n",
    "    niw_params=easy_niw_prior,\n",
    "    dataset_size=100,\n",
    "    num_points=2048,\n",
    "    dp_alpha=dp_alpha,\n",
    "    alpha=alpha,\n",
    "    hr_threshold=0.001\n",
    "    )"
   ]
  },
  {
   "cell_type": "code",
   "execution_count": 6,
   "metadata": {},
   "outputs": [],
   "source": [
    "title = f\"Easy {D}D Data\"\n",
    "plot_loghr_histograms(X, Y, easy_niw_prior, alpha, title)\n",
    "plot_dataset(X, Y, easy_niw_prior, alpha, title, num_ax=2)\n"
   ]
  },
  {
   "cell_type": "markdown",
   "metadata": {},
   "source": [
    "# Challenging Data:"
   ]
  },
  {
   "cell_type": "code",
   "execution_count": null,
   "metadata": {},
   "outputs": [],
   "source": [
    "nu = 5\n",
    "k = 1\n",
    "D = 3\n",
    "mu=np.zeros(D)\n",
    "psi=np.eye(D)\n",
    "dp_alpha=100\n",
    "alpha=5\n",
    "\n",
    "\n",
    "niw_prior = niw_hyperparams(k=k, v=nu, mu=mu, psi=psi)\n",
    "\n",
    "X, Y = genereate_splitnet_dataset(\n",
    "    niw_params=niw_prior,\n",
    "    dataset_size=100,\n",
    "    num_points=2048,\n",
    "    alpha=alpha,\n",
    "    dp_alpha=dp_alpha,\n",
    "    )"
   ]
  },
  {
   "cell_type": "code",
   "execution_count": null,
   "metadata": {},
   "outputs": [],
   "source": [
    "title = f\"Less Easy {D}D Data\"\n",
    "plot_loghr_histograms(X, Y, niw_prior, alpha, title)\n",
    "plot_dataset(X, Y, niw_prior, alpha, title, num_ax=3)\n"
   ]
  },
  {
   "cell_type": "markdown",
   "metadata": {},
   "source": [
    "# Hard Data:"
   ]
  },
  {
   "cell_type": "code",
   "execution_count": null,
   "metadata": {},
   "outputs": [],
   "source": [
    "nu = 4\n",
    "k = 10\n",
    "D = 3\n",
    "mu=np.zeros(D)\n",
    "psi=np.eye(D)\n",
    "dp_alpha=100\n",
    "alpha = 1\n",
    "\n",
    "\n",
    "niw_prior = niw_hyperparams(k=k, v=nu, mu=mu, psi=psi)\n",
    "\n",
    "X, Y = genereate_splitnet_dataset(\n",
    "    niw_params=niw_prior,\n",
    "    dataset_size=100,\n",
    "    num_points=2048,\n",
    "    alpha=alpha,\n",
    "    hr_threshold=0.01,\n",
    "    dp_alpha=dp_alpha,\n",
    "    )"
   ]
  },
  {
   "cell_type": "code",
   "execution_count": null,
   "metadata": {},
   "outputs": [],
   "source": [
    "title = f\"Hard {D}D Data\"\n",
    "plot_loghr_histograms(X, Y, easy_niw_prior, alpha, title)\n",
    "plot_dataset(X, Y, niw_prior, alpha, title, num_ax=3)\n"
   ]
  },
  {
   "cell_type": "code",
   "execution_count": null,
   "metadata": {},
   "outputs": [],
   "source": [
    "nu =10\n",
    "k = 0.5\n",
    "D=10\n",
    "mu=np.zeros(D)\n",
    "psi=np.eye(D)\n",
    "dp_alpha=100\n",
    "\n",
    "niw_prior = niw_hyperparams(k=k, v=nu, mu=mu, psi=psi)\n",
    "alpha=2\n",
    "\n",
    "X, Y = genereate_splitnet_dataset(\n",
    "    niw_params=niw_prior,\n",
    "    dataset_size=100,\n",
    "    num_points=1000,\n",
    "    alpha=alpha,\n",
    "    dp_alpha=dp_alpha,\n",
    "    hr_threshold=0.01\n",
    "    )"
   ]
  },
  {
   "cell_type": "code",
   "execution_count": null,
   "metadata": {},
   "outputs": [],
   "source": [
    "title = f\"Hard {D}D Data\"\n",
    "plot_loghr_histograms(X, Y, niw_prior, alpha, title)"
   ]
  },
  {
   "cell_type": "code",
   "execution_count": null,
   "metadata": {},
   "outputs": [],
   "source": []
  },
  {
   "cell_type": "markdown",
   "metadata": {},
   "source": [
    "# Multi-K | Easy Data:"
   ]
  },
  {
   "cell_type": "code",
   "execution_count": null,
   "metadata": {},
   "outputs": [],
   "source": [
    "nu = 20\n",
    "k = 0.1\n",
    "D = 10\n",
    "mu=np.zeros(D)\n",
    "psi=np.eye(D)\n",
    "dp_alpha = 100\n",
    "alpha=10\n",
    "\n",
    "easy_niw_prior = niw_hyperparams(k=k, v=nu, mu=mu, psi=psi)\n",
    "\n",
    "X, Y = genereate_splitnet_dataset_multi(\n",
    "    niw_params=easy_niw_prior,\n",
    "    dataset_size=1000,\n",
    "    num_points=2024,\n",
    "    dp_alpha=dp_alpha,\n",
    "    alpha=alpha,\n",
    "    hr_threshold=0.001,\n",
    "    K_max=6,\n",
    "    )"
   ]
  },
  {
   "cell_type": "code",
   "execution_count": null,
   "metadata": {},
   "outputs": [],
   "source": [
    "title = f\"Easy {D}D Data\"\n",
    "plot_loghr_histograms(X, Y, easy_niw_prior, alpha, title)\n",
    "plot_dataset(X, Y, easy_niw_prior, alpha, title, num_ax=3)\n"
   ]
  },
  {
   "cell_type": "code",
   "execution_count": null,
   "metadata": {},
   "outputs": [],
   "source": []
  },
  {
   "cell_type": "code",
   "execution_count": null,
   "metadata": {},
   "outputs": [],
   "source": []
  }
 ],
 "metadata": {
  "interpreter": {
   "hash": "34adc3673008b2658de0218075bebe9d967af4bc41f033cbb985a99b9ece1763"
  },
  "kernelspec": {
   "display_name": "Python 3.8.5 64-bit ('splintnet': conda)",
   "name": "python3"
  },
  "language_info": {
   "codemirror_mode": {
    "name": "ipython",
    "version": 3
   },
   "file_extension": ".py",
   "mimetype": "text/x-python",
   "name": "python",
   "nbconvert_exporter": "python",
   "pygments_lexer": "ipython3",
   "version": "3.8.5"
  }
 },
 "nbformat": 4,
 "nbformat_minor": 2
}
